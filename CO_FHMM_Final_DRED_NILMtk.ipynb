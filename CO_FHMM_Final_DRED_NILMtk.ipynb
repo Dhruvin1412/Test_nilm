{
 "cells": [
  {
   "cell_type": "code",
   "execution_count": 1,
   "metadata": {},
   "outputs": [],
   "source": [
    "#Imports necessary library using NILMTK enviroment\n",
    "from pylab import rcParams\n",
    "import matplotlib.pyplot as plt\n",
    "from os.path import join\n",
    "import nilmtk as ntk\n",
    "import nilmtk.disaggregate as ntkd\n",
    "import nilmtk.metrics as ntkm\n",
    "from matplotlib.sankey import Sankey\n",
    "%matplotlib inline\n",
    "\n",
    "rcParams['figure.figsize'] = (14, 6)\n",
    "plt.style.use('ggplot')"
   ]
  },
  {
   "cell_type": "code",
   "execution_count": 3,
   "metadata": {},
   "outputs": [
    {
     "name": "stdout",
     "output_type": "stream",
     "text": [
      "loaded 1 buildings\n"
     ]
    }
   ],
   "source": [
    "#Uploading the dataset and define the location of data\n",
    "h5_path = '/Users/Dhruvin suthar/Desktop/Thesis work/test_of_database/DRED/DRED' \n",
    "dred = ntk.DataSet(join(h5_path,'DRED.h5'))\n",
    "print('loaded ' + str(len(dred.buildings)) + ' buildings')\n"
   ]
  },
  {
   "cell_type": "code",
   "execution_count": 4,
   "metadata": {},
   "outputs": [
    {
     "data": {
      "text/plain": [
       "MeterGroup(meters=\n",
       "  ElecMeter(instance=1, building=1, dataset='DRED', site_meter, appliances=[])\n",
       "  ElecMeter(instance=2, building=1, dataset='DRED', appliances=[Appliance(type='television', instance=1)])\n",
       "  ElecMeter(instance=3, building=1, dataset='DRED', appliances=[Appliance(type='fan', instance=1)])\n",
       "  ElecMeter(instance=4, building=1, dataset='DRED', appliances=[Appliance(type='fridge', instance=1)])\n",
       "  ElecMeter(instance=5, building=1, dataset='DRED', appliances=[Appliance(type='laptop computer', instance=1)])\n",
       "  ElecMeter(instance=6, building=1, dataset='DRED', appliances=[Appliance(type='electric heating element', instance=1)])\n",
       "  ElecMeter(instance=7, building=1, dataset='DRED', appliances=[Appliance(type='oven', instance=1)])\n",
       "  ElecMeter(instance=8, building=1, dataset='DRED', appliances=[Appliance(type='unknown', instance=1)])\n",
       "  ElecMeter(instance=9, building=1, dataset='DRED', appliances=[Appliance(type='washing machine', instance=1)])\n",
       "  ElecMeter(instance=10, building=1, dataset='DRED', appliances=[Appliance(type='microwave', instance=1)])\n",
       "  ElecMeter(instance=11, building=1, dataset='DRED', appliances=[Appliance(type='toaster', instance=1)])\n",
       "  ElecMeter(instance=12, building=1, dataset='DRED', appliances=[Appliance(type='sockets', instance=1)])\n",
       "  ElecMeter(instance=13, building=1, dataset='DRED', appliances=[Appliance(type='cooker', instance=1)])\n",
       ")"
      ]
     },
     "execution_count": 4,
     "metadata": {},
     "output_type": "execute_result"
    }
   ],
   "source": [
    "#Load the data from H5 file for a 1 week (appearant dataset: 05.07.2015 to 10.07.2015)\n",
    "dred.set_window(start=None, end='2015-07-10 00:00:00')\n",
    "elec = dred.buildings[1].elec\n",
    "elec"
   ]
  },
  {
   "cell_type": "code",
   "execution_count": 5,
   "metadata": {},
   "outputs": [
    {
     "data": {
      "text/plain": [
       "<matplotlib.axes._subplots.AxesSubplot at 0x1dd27febb70>"
      ]
     },
     "execution_count": 5,
     "metadata": {},
     "output_type": "execute_result"
    },
    {
     "data": {
      "image/png": "[encoded data removed]",
      "text/plain": [
       "<Figure size 432x288 with 1 Axes>"
      ]
     },
     "metadata": {
      "needs_background": "light"
     },
     "output_type": "display_data"
    }
   ],
   "source": [
    "#plotting the aggregated power of appliances \n",
    "mains = elec.mains()\n",
    "mains.plot()"
   ]
  },
  {
   "cell_type": "code",
   "execution_count": 6,
   "metadata": {},
   "outputs": [
    {
     "data": {
      "text/html": [
       "<div>\n",
       "<style scoped>\n",
       "    .dataframe tbody tr th:only-of-type {\n",
       "        vertical-align: middle;\n",
       "    }\n",
       "\n",
       "    .dataframe tbody tr th {\n",
       "        vertical-align: top;\n",
       "    }\n",
       "\n",
       "    .dataframe thead tr th {\n",
       "        text-align: left;\n",
       "    }\n",
       "</style>\n",
       "<table border=\"1\" class=\"dataframe\">\n",
       "  <thead>\n",
       "    <tr>\n",
       "      <th></th>\n",
       "      <th>power</th>\n",
       "    </tr>\n",
       "    <tr>\n",
       "      <th></th>\n",
       "      <th>apparent</th>\n",
       "    </tr>\n",
       "  </thead>\n",
       "  <tbody>\n",
       "    <tr>\n",
       "      <th>2015-07-05 00:00:08+02:00</th>\n",
       "      <td>223.0</td>\n",
       "    </tr>\n",
       "    <tr>\n",
       "      <th>2015-07-05 00:00:09+02:00</th>\n",
       "      <td>223.6</td>\n",
       "    </tr>\n",
       "    <tr>\n",
       "      <th>2015-07-05 00:00:10+02:00</th>\n",
       "      <td>224.2</td>\n",
       "    </tr>\n",
       "    <tr>\n",
       "      <th>2015-07-05 00:00:11+02:00</th>\n",
       "      <td>224.8</td>\n",
       "    </tr>\n",
       "    <tr>\n",
       "      <th>2015-07-05 00:00:12+02:00</th>\n",
       "      <td>225.4</td>\n",
       "    </tr>\n",
       "  </tbody>\n",
       "</table>\n",
       "</div>"
      ],
      "text/plain": [
       "                             power\n",
       "                          apparent\n",
       "2015-07-05 00:00:08+02:00    223.0\n",
       "2015-07-05 00:00:09+02:00    223.6\n",
       "2015-07-05 00:00:10+02:00    224.2\n",
       "2015-07-05 00:00:11+02:00    224.8\n",
       "2015-07-05 00:00:12+02:00    225.4"
      ]
     },
     "execution_count": 6,
     "metadata": {},
     "output_type": "execute_result"
    }
   ],
   "source": [
    "#opning the aggregated power dataset\n",
    "mains_df = next(mains.load())\n",
    "mains_df.head()"
   ]
  },
  {
   "cell_type": "code",
   "execution_count": 7,
   "metadata": {},
   "outputs": [
    {
     "data": {
      "text/plain": [
       "['apparent']"
      ]
     },
     "execution_count": 7,
     "metadata": {},
     "output_type": "execute_result"
    }
   ],
   "source": [
    "# Findind the type of power\n",
    "mains.available_ac_types('power')"
   ]
  },
  {
   "cell_type": "code",
   "execution_count": 8,
   "metadata": {},
   "outputs": [
    {
     "data": {
      "text/plain": [
       "['apparent']"
      ]
     },
     "execution_count": 8,
     "metadata": {},
     "output_type": "execute_result"
    }
   ],
   "source": [
    "#available recodered power\n",
    "elec.submeters().available_ac_types('power')"
   ]
  },
  {
   "cell_type": "code",
   "execution_count": 9,
   "metadata": {},
   "outputs": [
    {
     "data": {
      "text/plain": [
       "apparent    16.584037\n",
       "dtype: float64"
      ]
     },
     "execution_count": 9,
     "metadata": {},
     "output_type": "execute_result"
    }
   ],
   "source": [
    "# type of power\n",
    "elec.mains().total_energy() "
   ]
  },
  {
   "cell_type": "code",
   "execution_count": 10,
   "metadata": {},
   "outputs": [
    {
     "name": "stdout",
     "output_type": "stream",
     "text": [
      "12/12 ElecMeter(instance=13, building=1, dataset='DRED', appliances=[Appliance(type='cooker', instance=1)])))=1)])ance=1)])"
     ]
    },
    {
     "data": {
      "text/html": [
       "<div>\n",
       "<style scoped>\n",
       "    .dataframe tbody tr th:only-of-type {\n",
       "        vertical-align: middle;\n",
       "    }\n",
       "\n",
       "    .dataframe tbody tr th {\n",
       "        vertical-align: top;\n",
       "    }\n",
       "\n",
       "    .dataframe thead th {\n",
       "        text-align: right;\n",
       "    }\n",
       "</style>\n",
       "<table border=\"1\" class=\"dataframe\">\n",
       "  <thead>\n",
       "    <tr style=\"text-align: right;\">\n",
       "      <th></th>\n",
       "      <th>(2, 1, DRED)</th>\n",
       "      <th>(3, 1, DRED)</th>\n",
       "      <th>(4, 1, DRED)</th>\n",
       "      <th>(5, 1, DRED)</th>\n",
       "      <th>(6, 1, DRED)</th>\n",
       "      <th>(7, 1, DRED)</th>\n",
       "      <th>(8, 1, DRED)</th>\n",
       "      <th>(9, 1, DRED)</th>\n",
       "      <th>(10, 1, DRED)</th>\n",
       "      <th>(11, 1, DRED)</th>\n",
       "      <th>(12, 1, DRED)</th>\n",
       "      <th>(13, 1, DRED)</th>\n",
       "    </tr>\n",
       "  </thead>\n",
       "  <tbody>\n",
       "    <tr>\n",
       "      <th>active</th>\n",
       "      <td>NaN</td>\n",
       "      <td>NaN</td>\n",
       "      <td>NaN</td>\n",
       "      <td>NaN</td>\n",
       "      <td>NaN</td>\n",
       "      <td>NaN</td>\n",
       "      <td>NaN</td>\n",
       "      <td>NaN</td>\n",
       "      <td>NaN</td>\n",
       "      <td>NaN</td>\n",
       "      <td>NaN</td>\n",
       "      <td>NaN</td>\n",
       "    </tr>\n",
       "    <tr>\n",
       "      <th>apparent</th>\n",
       "      <td>1.251359</td>\n",
       "      <td>0.67942</td>\n",
       "      <td>5.41584</td>\n",
       "      <td>1.579026</td>\n",
       "      <td>0.618707</td>\n",
       "      <td>0.23525</td>\n",
       "      <td>0.012125</td>\n",
       "      <td>0.081595</td>\n",
       "      <td>0.78638</td>\n",
       "      <td>0.038197</td>\n",
       "      <td>1.176727</td>\n",
       "      <td>1.065199</td>\n",
       "    </tr>\n",
       "    <tr>\n",
       "      <th>reactive</th>\n",
       "      <td>NaN</td>\n",
       "      <td>NaN</td>\n",
       "      <td>NaN</td>\n",
       "      <td>NaN</td>\n",
       "      <td>NaN</td>\n",
       "      <td>NaN</td>\n",
       "      <td>NaN</td>\n",
       "      <td>NaN</td>\n",
       "      <td>NaN</td>\n",
       "      <td>NaN</td>\n",
       "      <td>NaN</td>\n",
       "      <td>NaN</td>\n",
       "    </tr>\n",
       "  </tbody>\n",
       "</table>\n",
       "</div>"
      ],
      "text/plain": [
       "          (2, 1, DRED)  (3, 1, DRED)  (4, 1, DRED)  (5, 1, DRED)  \\\n",
       "active             NaN           NaN           NaN           NaN   \n",
       "apparent      1.251359       0.67942       5.41584      1.579026   \n",
       "reactive           NaN           NaN           NaN           NaN   \n",
       "\n",
       "          (6, 1, DRED)  (7, 1, DRED)  (8, 1, DRED)  (9, 1, DRED)  \\\n",
       "active             NaN           NaN           NaN           NaN   \n",
       "apparent      0.618707       0.23525      0.012125      0.081595   \n",
       "reactive           NaN           NaN           NaN           NaN   \n",
       "\n",
       "          (10, 1, DRED)  (11, 1, DRED)  (12, 1, DRED)  (13, 1, DRED)  \n",
       "active              NaN            NaN            NaN            NaN  \n",
       "apparent        0.78638       0.038197       1.176727       1.065199  \n",
       "reactive            NaN            NaN            NaN            NaN  "
      ]
     },
     "execution_count": 10,
     "metadata": {},
     "output_type": "execute_result"
    }
   ],
   "source": [
    "#opening the dataset appliancesvise\n",
    "energy_per_meter = elec.submeters().energy_per_meter() # kWh, again\n",
    "energy_per_meter"
   ]
  },
  {
   "cell_type": "code",
   "execution_count": 11,
   "metadata": {},
   "outputs": [],
   "source": [
    "#plotting the Sankey diagram with availabe appliances\n",
    "#elec._plot_sankey()"
   ]
  },
  {
   "cell_type": "code",
   "execution_count": 12,
   "metadata": {},
   "outputs": [
    {
     "name": "stderr",
     "output_type": "stream",
     "text": [
      "C:\\Users\\Dhruvin suthar\\Anaconda3\\envs\\nilmtk-env\\lib\\site-packages\\networkx\\drawing\\nx_pylab.py:611: MatplotlibDeprecationWarning: isinstance(..., numbers.Number)\n",
      "  if cb.is_numlike(alpha):\n"
     ]
    },
    {
     "data": {
      "text/plain": [
       "(<networkx.classes.digraph.DiGraph at 0x1dd2a3e8470>,\n",
       " <matplotlib.axes._axes.Axes at 0x1dd2888d5c0>)"
      ]
     },
     "execution_count": 12,
     "metadata": {},
     "output_type": "execute_result"
    },
    {
     "data": {
      "image/png": "[encoded data removed]",
      "text/plain": [
       "<Figure size 432x288 with 1 Axes>"
      ]
     },
     "metadata": {},
     "output_type": "display_data"
    }
   ],
   "source": [
    "#plotting the wire diagram with availabe appliances\n",
    "elec.draw_wiring_graph()"
   ]
  },
  {
   "cell_type": "code",
   "execution_count": 13,
   "metadata": {},
   "outputs": [],
   "source": [
    "###INdividial Appliances proparties "
   ]
  },
  {
   "cell_type": "code",
   "execution_count": 14,
   "metadata": {},
   "outputs": [],
   "source": [
    "##taking the of fridge\n",
    "fridge_meter = elec['fridge']\n",
    "\n"
   ]
  },
  {
   "cell_type": "code",
   "execution_count": 15,
   "metadata": {},
   "outputs": [
    {
     "data": {
      "text/plain": [
       "{'max_sample_period': 1,\n",
       " 'model': 'GT',\n",
       " 'measurements': [{'type': 'apparent', 'physical_quantity': 'power'}],\n",
       " 'sample_period': 1}"
      ]
     },
     "execution_count": 15,
     "metadata": {},
     "output_type": "execute_result"
    }
   ],
   "source": [
    "#Proparties of Fridge\n",
    "fridge_meter.device"
   ]
  },
  {
   "cell_type": "code",
   "execution_count": 16,
   "metadata": {},
   "outputs": [],
   "source": [
    "#Loading the fridge data from h5 file\n",
    "fridge_df = next(fridge_meter.load())"
   ]
  },
  {
   "cell_type": "code",
   "execution_count": 17,
   "metadata": {},
   "outputs": [
    {
     "data": {
      "text/html": [
       "<div>\n",
       "<style scoped>\n",
       "    .dataframe tbody tr th:only-of-type {\n",
       "        vertical-align: middle;\n",
       "    }\n",
       "\n",
       "    .dataframe tbody tr th {\n",
       "        vertical-align: top;\n",
       "    }\n",
       "\n",
       "    .dataframe thead tr th {\n",
       "        text-align: left;\n",
       "    }\n",
       "</style>\n",
       "<table border=\"1\" class=\"dataframe\">\n",
       "  <thead>\n",
       "    <tr>\n",
       "      <th></th>\n",
       "      <th>power</th>\n",
       "    </tr>\n",
       "    <tr>\n",
       "      <th></th>\n",
       "      <th>apparent</th>\n",
       "    </tr>\n",
       "  </thead>\n",
       "  <tbody>\n",
       "    <tr>\n",
       "      <th>2015-07-05 00:00:08+02:00</th>\n",
       "      <td>99.210000</td>\n",
       "    </tr>\n",
       "    <tr>\n",
       "      <th>2015-07-05 00:00:09+02:00</th>\n",
       "      <td>99.179070</td>\n",
       "    </tr>\n",
       "    <tr>\n",
       "      <th>2015-07-05 00:00:10+02:00</th>\n",
       "      <td>99.148140</td>\n",
       "    </tr>\n",
       "    <tr>\n",
       "      <th>2015-07-05 00:00:11+02:00</th>\n",
       "      <td>99.117209</td>\n",
       "    </tr>\n",
       "    <tr>\n",
       "      <th>2015-07-05 00:00:12+02:00</th>\n",
       "      <td>99.086279</td>\n",
       "    </tr>\n",
       "  </tbody>\n",
       "</table>\n",
       "</div>"
      ],
      "text/plain": [
       "                               power\n",
       "                            apparent\n",
       "2015-07-05 00:00:08+02:00  99.210000\n",
       "2015-07-05 00:00:09+02:00  99.179070\n",
       "2015-07-05 00:00:10+02:00  99.148140\n",
       "2015-07-05 00:00:11+02:00  99.117209\n",
       "2015-07-05 00:00:12+02:00  99.086279"
      ]
     },
     "execution_count": 17,
     "metadata": {},
     "output_type": "execute_result"
    }
   ],
   "source": [
    "fridge_df.head() # Visualize the dataset"
   ]
  },
  {
   "cell_type": "code",
   "execution_count": 18,
   "metadata": {},
   "outputs": [
    {
     "data": {
      "text/plain": [
       "apparent    5.41584\n",
       "dtype: float64"
      ]
     },
     "execution_count": 18,
     "metadata": {},
     "output_type": "execute_result"
    }
   ],
   "source": [
    "fridge_meter.total_energy() # kWh and type of data"
   ]
  },
  {
   "cell_type": "code",
   "execution_count": 19,
   "metadata": {},
   "outputs": [
    {
     "data": {
      "text/plain": [
       "<matplotlib.axes._subplots.AxesSubplot at 0x1dd2835c9b0>"
      ]
     },
     "execution_count": 19,
     "metadata": {},
     "output_type": "execute_result"
    },
    {
     "data": {
      "image/png": "[encoded data removed]",
      "text/plain": [
       "<Figure size 432x288 with 1 Axes>"
      ]
     },
     "metadata": {
      "needs_background": "light"
     },
     "output_type": "display_data"
    }
   ],
   "source": [
    "fridge_meter.plot() # plotting the fridge dataset for a 1 week"
   ]
  },
  {
   "cell_type": "code",
   "execution_count": 20,
   "metadata": {},
   "outputs": [
    {
     "data": {
      "text/plain": [
       "<matplotlib.axes._subplots.AxesSubplot at 0x1dd2a3d8be0>"
      ]
     },
     "execution_count": 20,
     "metadata": {},
     "output_type": "execute_result"
    },
    {
     "data": {
      "image/png": "[encoded data removed]",
      "text/plain": [
       "<Figure size 432x288 with 1 Axes>"
      ]
     },
     "metadata": {
      "needs_background": "light"
     },
     "output_type": "display_data"
    }
   ],
   "source": [
    "##Good sections : To check the data is recorderd proparyly or not. \n",
    "#when we plot the raw power data then we see there is one large gap where, supposedly, the metering system was not working.\n",
    "# In our case, metering us working properly\n",
    "good_sections = fridge_meter.good_sections(full_results=True)\n",
    "good_sections.plot()"
   ]
  },
  {
   "cell_type": "code",
   "execution_count": 21,
   "metadata": {},
   "outputs": [
    {
     "data": {
      "text/plain": [
       "[TimeFrame(start='2015-07-05 00:00:08+02:00', end='2015-07-10 00:00:00+02:00', empty=False)]"
      ]
     },
     "execution_count": 21,
     "metadata": {},
     "output_type": "execute_result"
    }
   ],
   "source": [
    "#selectin of data\n",
    "good_sections.combined()"
   ]
  },
  {
   "cell_type": "code",
   "execution_count": 22,
   "metadata": {},
   "outputs": [
    {
     "data": {
      "text/plain": [
       "0.0"
      ]
     },
     "execution_count": 22,
     "metadata": {},
     "output_type": "execute_result"
    }
   ],
   "source": [
    "#As well as large gaps appearing because the entire system is down, we also get frequent small gaps from wireless sensors dropping data. This is sometimes called 'dropout'. \n",
    "#The dropout rate is a number between 0 and 1 which specifies the proportion of missing samples.\n",
    "#A dropout rate of 0 means no samples are missing. A value of 1 would mean all samples are missing\n",
    "fridge_meter.dropout_rate()"
   ]
  },
  {
   "cell_type": "code",
   "execution_count": 23,
   "metadata": {},
   "outputs": [],
   "source": [
    "##For television\n",
    "television_meter = elec['television']"
   ]
  },
  {
   "cell_type": "code",
   "execution_count": 24,
   "metadata": {},
   "outputs": [
    {
     "data": {
      "text/plain": [
       "{'max_sample_period': 1,\n",
       " 'model': 'GT',\n",
       " 'measurements': [{'type': 'apparent', 'physical_quantity': 'power'}],\n",
       " 'sample_period': 1}"
      ]
     },
     "execution_count": 24,
     "metadata": {},
     "output_type": "execute_result"
    }
   ],
   "source": [
    "#Proparties of television\n",
    "television_meter.device"
   ]
  },
  {
   "cell_type": "code",
   "execution_count": 25,
   "metadata": {},
   "outputs": [
    {
     "data": {
      "text/html": [
       "<div>\n",
       "<style scoped>\n",
       "    .dataframe tbody tr th:only-of-type {\n",
       "        vertical-align: middle;\n",
       "    }\n",
       "\n",
       "    .dataframe tbody tr th {\n",
       "        vertical-align: top;\n",
       "    }\n",
       "\n",
       "    .dataframe thead tr th {\n",
       "        text-align: left;\n",
       "    }\n",
       "</style>\n",
       "<table border=\"1\" class=\"dataframe\">\n",
       "  <thead>\n",
       "    <tr>\n",
       "      <th></th>\n",
       "      <th>power</th>\n",
       "    </tr>\n",
       "    <tr>\n",
       "      <th></th>\n",
       "      <th>apparent</th>\n",
       "    </tr>\n",
       "  </thead>\n",
       "  <tbody>\n",
       "    <tr>\n",
       "      <th>2015-07-05 00:00:10+02:00</th>\n",
       "      <td>0.0</td>\n",
       "    </tr>\n",
       "    <tr>\n",
       "      <th>2015-07-05 00:00:11+02:00</th>\n",
       "      <td>0.0</td>\n",
       "    </tr>\n",
       "    <tr>\n",
       "      <th>2015-07-05 00:00:12+02:00</th>\n",
       "      <td>0.0</td>\n",
       "    </tr>\n",
       "    <tr>\n",
       "      <th>2015-07-05 00:00:13+02:00</th>\n",
       "      <td>0.0</td>\n",
       "    </tr>\n",
       "    <tr>\n",
       "      <th>2015-07-05 00:00:14+02:00</th>\n",
       "      <td>0.0</td>\n",
       "    </tr>\n",
       "  </tbody>\n",
       "</table>\n",
       "</div>"
      ],
      "text/plain": [
       "                             power\n",
       "                          apparent\n",
       "2015-07-05 00:00:10+02:00      0.0\n",
       "2015-07-05 00:00:11+02:00      0.0\n",
       "2015-07-05 00:00:12+02:00      0.0\n",
       "2015-07-05 00:00:13+02:00      0.0\n",
       "2015-07-05 00:00:14+02:00      0.0"
      ]
     },
     "execution_count": 25,
     "metadata": {},
     "output_type": "execute_result"
    }
   ],
   "source": [
    "#visulize the data\n",
    "television_df = next(television_meter.load())\n",
    "television_df.head()"
   ]
  },
  {
   "cell_type": "code",
   "execution_count": 26,
   "metadata": {},
   "outputs": [
    {
     "data": {
      "text/plain": [
       "apparent    1.251359\n",
       "dtype: float64"
      ]
     },
     "execution_count": 26,
     "metadata": {},
     "output_type": "execute_result"
    }
   ],
   "source": [
    "television_meter.total_energy() # kWh"
   ]
  },
  {
   "cell_type": "code",
   "execution_count": 27,
   "metadata": {},
   "outputs": [
    {
     "data": {
      "text/plain": [
       "<matplotlib.axes._subplots.AxesSubplot at 0x1dd28093f98>"
      ]
     },
     "execution_count": 27,
     "metadata": {},
     "output_type": "execute_result"
    },
    {
     "data": {
      "image/png": "[encoded data removed]",
      "text/plain": [
       "<Figure size 432x288 with 1 Axes>"
      ]
     },
     "metadata": {
      "needs_background": "light"
     },
     "output_type": "display_data"
    }
   ],
   "source": [
    "television_meter.plot() #plotting the television data"
   ]
  },
  {
   "cell_type": "code",
   "execution_count": 28,
   "metadata": {},
   "outputs": [
    {
     "data": {
      "text/plain": [
       "<matplotlib.axes._subplots.AxesSubplot at 0x1dd28105240>"
      ]
     },
     "execution_count": 28,
     "metadata": {},
     "output_type": "execute_result"
    },
    {
     "data": {
      "image/png": "[encoded data removed]",
      "text/plain": [
       "<Figure size 432x288 with 1 Axes>"
      ]
     },
     "metadata": {
      "needs_background": "light"
     },
     "output_type": "display_data"
    }
   ],
   "source": [
    "good_sections_t = television_meter.good_sections(full_results=True)\n",
    "good_sections_t.plot()"
   ]
  },
  {
   "cell_type": "code",
   "execution_count": 29,
   "metadata": {},
   "outputs": [
    {
     "data": {
      "text/plain": [
       "[TimeFrame(start='2015-07-05 00:00:10+02:00', end='2015-07-10 00:00:00+02:00', empty=False)]"
      ]
     },
     "execution_count": 29,
     "metadata": {},
     "output_type": "execute_result"
    }
   ],
   "source": [
    "good_sections_t.combined()"
   ]
  },
  {
   "cell_type": "code",
   "execution_count": 30,
   "metadata": {},
   "outputs": [
    {
     "data": {
      "text/plain": [
       "0.0"
      ]
     },
     "execution_count": 30,
     "metadata": {},
     "output_type": "execute_result"
    }
   ],
   "source": [
    "television_meter.dropout_rate() #dropout rate"
   ]
  },
  {
   "cell_type": "code",
   "execution_count": 31,
   "metadata": {},
   "outputs": [
    {
     "name": "stdout",
     "output_type": "stream",
     "text": [
      "Training model for submeter 'ElecMeter(instance=2, building=1, dataset='DRED', appliances=[Appliance(type='television', instance=1)])'\n",
      "Training model for submeter 'ElecMeter(instance=3, building=1, dataset='DRED', appliances=[Appliance(type='fan', instance=1)])'\n",
      "Training model for submeter 'ElecMeter(instance=4, building=1, dataset='DRED', appliances=[Appliance(type='fridge', instance=1)])'\n",
      "Training model for submeter 'ElecMeter(instance=5, building=1, dataset='DRED', appliances=[Appliance(type='laptop computer', instance=1)])'\n",
      "Training model for submeter 'ElecMeter(instance=6, building=1, dataset='DRED', appliances=[Appliance(type='electric heating element', instance=1)])'\n",
      "Training model for submeter 'ElecMeter(instance=7, building=1, dataset='DRED', appliances=[Appliance(type='oven', instance=1)])'\n",
      "Training model for submeter 'ElecMeter(instance=8, building=1, dataset='DRED', appliances=[Appliance(type='unknown', instance=1)])'\n",
      "Training model for submeter 'ElecMeter(instance=9, building=1, dataset='DRED', appliances=[Appliance(type='washing machine', instance=1)])'\n",
      "Training model for submeter 'ElecMeter(instance=10, building=1, dataset='DRED', appliances=[Appliance(type='microwave', instance=1)])'\n",
      "Training model for submeter 'ElecMeter(instance=11, building=1, dataset='DRED', appliances=[Appliance(type='toaster', instance=1)])'\n",
      "Training model for submeter 'ElecMeter(instance=12, building=1, dataset='DRED', appliances=[Appliance(type='sockets', instance=1)])'\n",
      "Training model for submeter 'ElecMeter(instance=13, building=1, dataset='DRED', appliances=[Appliance(type='cooker', instance=1)])'\n",
      "Done training!\n"
     ]
    }
   ],
   "source": [
    "#Train the data using Combinatorial Optimisation \n",
    "co = ntk.disaggregate.CombinatorialOptimisation()\n",
    "co.train(elec)"
   ]
  },
  {
   "cell_type": "code",
   "execution_count": 32,
   "metadata": {},
   "outputs": [
    {
     "name": "stdout",
     "output_type": "stream",
     "text": [
      "Estimating power demand for 'ElecMeter(instance=2, building=1, dataset='DRED', appliances=[Appliance(type='television', instance=1)])'\n",
      "Estimating power demand for 'ElecMeter(instance=3, building=1, dataset='DRED', appliances=[Appliance(type='fan', instance=1)])'\n",
      "Estimating power demand for 'ElecMeter(instance=4, building=1, dataset='DRED', appliances=[Appliance(type='fridge', instance=1)])'\n",
      "Estimating power demand for 'ElecMeter(instance=5, building=1, dataset='DRED', appliances=[Appliance(type='laptop computer', instance=1)])'\n",
      "Estimating power demand for 'ElecMeter(instance=6, building=1, dataset='DRED', appliances=[Appliance(type='electric heating element', instance=1)])'\n",
      "Estimating power demand for 'ElecMeter(instance=7, building=1, dataset='DRED', appliances=[Appliance(type='oven', instance=1)])'\n",
      "Estimating power demand for 'ElecMeter(instance=8, building=1, dataset='DRED', appliances=[Appliance(type='unknown', instance=1)])'\n",
      "Estimating power demand for 'ElecMeter(instance=9, building=1, dataset='DRED', appliances=[Appliance(type='washing machine', instance=1)])'\n",
      "Estimating power demand for 'ElecMeter(instance=10, building=1, dataset='DRED', appliances=[Appliance(type='microwave', instance=1)])'\n",
      "Estimating power demand for 'ElecMeter(instance=11, building=1, dataset='DRED', appliances=[Appliance(type='toaster', instance=1)])'\n",
      "Estimating power demand for 'ElecMeter(instance=12, building=1, dataset='DRED', appliances=[Appliance(type='sockets', instance=1)])'\n",
      "Estimating power demand for 'ElecMeter(instance=13, building=1, dataset='DRED', appliances=[Appliance(type='cooker', instance=1)])'\n"
     ]
    }
   ],
   "source": [
    "##Disaggreagtion via CO\n",
    "disag_filename = join(h5_path, 'Weekly_COMBINATORIAL_OPTIMIZATION.h5')\n",
    "\n",
    "mains = elec.mains()\n",
    "\n",
    "try:\n",
    "    output = ntk.HDFDataStore(disag_filename, 'w')\n",
    "    co.disaggregate(mains, output)\n",
    "except ValueError:\n",
    "    output.close()\n",
    "    output = ntk.HDFDataStore(disag_filename, 'w')\n",
    "    co.disaggregate(mains, output)\n",
    "\n",
    "for meter in range(1, 2):\n",
    "    df1 = output.store.get('/building1/elec/meter{}'.format(meter))\n",
    "    df2 = dred.store.store.get('/building1/elec/meter{}'.format(meter))\n",
    "\n",
    "    \n",
    "output.close()"
   ]
  },
  {
   "cell_type": "code",
   "execution_count": 33,
   "metadata": {},
   "outputs": [],
   "source": [
    "#Disaggregate via CO\n",
    "#output = ntk.HDFDataStore(h5_path + 'Weekly_COMBINATORIAL_OPTIMIZATION.h5', 'w')\n",
    "#co.disaggregate(mains, output)\n",
    "#output.close()"
   ]
  },
  {
   "cell_type": "code",
   "execution_count": 34,
   "metadata": {},
   "outputs": [
    {
     "data": {
      "text/plain": [
       "MeterGroup(meters=\n",
       "  ElecMeter(instance=1, building=1, dataset='CO', site_meter, appliances=[])\n",
       "  ElecMeter(instance=2, building=1, dataset='CO', appliances=[Appliance(type='television', instance=1)])\n",
       "  ElecMeter(instance=3, building=1, dataset='CO', appliances=[Appliance(type='fan', instance=1)])\n",
       "  ElecMeter(instance=4, building=1, dataset='CO', appliances=[Appliance(type='fridge', instance=1)])\n",
       "  ElecMeter(instance=5, building=1, dataset='CO', appliances=[Appliance(type='laptop computer', instance=1)])\n",
       "  ElecMeter(instance=6, building=1, dataset='CO', appliances=[Appliance(type='electric heating element', instance=1)])\n",
       "  ElecMeter(instance=7, building=1, dataset='CO', appliances=[Appliance(type='oven', instance=1)])\n",
       "  ElecMeter(instance=8, building=1, dataset='CO', appliances=[Appliance(type='unknown', instance=1)])\n",
       "  ElecMeter(instance=9, building=1, dataset='CO', appliances=[Appliance(type='washing machine', instance=1)])\n",
       "  ElecMeter(instance=10, building=1, dataset='CO', appliances=[Appliance(type='microwave', instance=1)])\n",
       "  ElecMeter(instance=11, building=1, dataset='CO', appliances=[Appliance(type='toaster', instance=1)])\n",
       "  ElecMeter(instance=12, building=1, dataset='CO', appliances=[Appliance(type='sockets', instance=1)])\n",
       "  ElecMeter(instance=13, building=1, dataset='CO', appliances=[Appliance(type='cooker', instance=1)])\n",
       ")"
      ]
     },
     "execution_count": 34,
     "metadata": {},
     "output_type": "execute_result"
    }
   ],
   "source": [
    "#Metrics==========================================================================\n",
    "disag = ntk.DataSet(h5_path + 'Weekly_outputDRED.h5')\n",
    "disag_elec = disag.buildings[1].elec\n",
    "disag_elec"
   ]
  },
  {
   "cell_type": "code",
   "execution_count": 35,
   "metadata": {
    "scrolled": true
   },
   "outputs": [
    {
     "name": "stderr",
     "output_type": "stream",
     "text": [
      "C:\\Users\\Dhruvin suthar\\Anaconda3\\envs\\nilmtk-env\\lib\\site-packages\\sklearn\\metrics\\classification.py:1135: UndefinedMetricWarning: F-score is ill-defined and being set to 0.0 due to no predicted samples.\n",
      "  'precision', 'predicted', average, warn_for)\n"
     ]
    },
    {
     "name": "stdout",
     "output_type": "stream",
     "text": [
      "2     0.213910\n",
      "3     0.237900\n",
      "4     0.564750\n",
      "5     0.477773\n",
      "6     0.047019\n",
      "7     0.122449\n",
      "8     0.000000\n",
      "9     0.000000\n",
      "10    0.082645\n",
      "11    0.031250\n",
      "12    0.164589\n",
      "13    0.215054\n",
      "dtype: float64\n"
     ]
    },
    {
     "data": {
      "image/png": "[encoded data removed]",
      "text/plain": [
       "<Figure size 432x288 with 1 Axes>"
      ]
     },
     "metadata": {
      "needs_background": "light"
     },
     "output_type": "display_data"
    }
   ],
   "source": [
    "#Accuracy with F1-score of COMBINATORIAL_OPTIMIZATIONw\n",
    "f1 = ntk.metrics.f1_score(disag_elec, elec)\n",
    "print(f1)\n",
    "f1.index = disag_elec.get_labels(f1.index)\n",
    "f1.plot(kind='barh')\n",
    "plt.ylabel('appliance');\n",
    "plt.xlabel('f-score');\n",
    "plt.title(\"CO\");"
   ]
  },
  {
   "cell_type": "code",
   "execution_count": 36,
   "metadata": {},
   "outputs": [
    {
     "name": "stdout",
     "output_type": "stream",
     "text": [
      "Training model for submeter 'ElecMeter(instance=2, building=1, dataset='DRED', appliances=[Appliance(type='television', instance=1)])'\n",
      "Training model for submeter 'ElecMeter(instance=3, building=1, dataset='DRED', appliances=[Appliance(type='fan', instance=1)])'\n",
      "Training model for submeter 'ElecMeter(instance=4, building=1, dataset='DRED', appliances=[Appliance(type='fridge', instance=1)])'\n",
      "Training model for submeter 'ElecMeter(instance=5, building=1, dataset='DRED', appliances=[Appliance(type='laptop computer', instance=1)])'\n",
      "Training model for submeter 'ElecMeter(instance=6, building=1, dataset='DRED', appliances=[Appliance(type='electric heating element', instance=1)])'\n",
      "Training model for submeter 'ElecMeter(instance=7, building=1, dataset='DRED', appliances=[Appliance(type='oven', instance=1)])'\n",
      "Training model for submeter 'ElecMeter(instance=8, building=1, dataset='DRED', appliances=[Appliance(type='unknown', instance=1)])'\n",
      "Training model for submeter 'ElecMeter(instance=9, building=1, dataset='DRED', appliances=[Appliance(type='washing machine', instance=1)])'\n",
      "Training model for submeter 'ElecMeter(instance=10, building=1, dataset='DRED', appliances=[Appliance(type='microwave', instance=1)])'\n",
      "Training model for submeter 'ElecMeter(instance=11, building=1, dataset='DRED', appliances=[Appliance(type='toaster', instance=1)])'\n",
      "Training model for submeter 'ElecMeter(instance=12, building=1, dataset='DRED', appliances=[Appliance(type='sockets', instance=1)])'\n",
      "Training model for submeter 'ElecMeter(instance=13, building=1, dataset='DRED', appliances=[Appliance(type='cooker', instance=1)])'\n"
     ]
    }
   ],
   "source": [
    "#Train the data using Factorial Hidden Markov Model(FHMM)\n",
    "fhmm = ntkd.fhmm_exact.FHMM()\n",
    "fhmm.train(elec)"
   ]
  },
  {
   "cell_type": "code",
   "execution_count": 37,
   "metadata": {},
   "outputs": [
    {
     "data": {
      "text/plain": [
       "<function nilmtk.datastore.hdfdatastore.DocInherit.get_with_inst.<locals>.f(self)>"
      ]
     },
     "execution_count": 37,
     "metadata": {},
     "output_type": "execute_result"
    }
   ],
   "source": [
    "# name of file to save disaggregated output to\n",
    "disag_filename_1 = 'outputDRED_FHMM.h5'\n",
    "output_f = ntk.HDFDataStore(disag_filename_1, 'w')\n",
    "\n",
    "output_f.close\n",
    "#Disaggregate via CO\n",
    "#output = ntk.HDFDataStore(h5_path + 'Weekly_COMBINATORIAL_OPTIMIZATION.h5', 'w')\n",
    "#co.disaggregate(mains, output)\n",
    "#output.close()"
   ]
  },
  {
   "cell_type": "code",
   "execution_count": 38,
   "metadata": {},
   "outputs": [],
   "source": [
    "##Disaggregation with factorial hidden markov model\n",
    "fhmm.disaggregate(mains, output_f)\n",
    "output_f.close()"
   ]
  },
  {
   "cell_type": "code",
   "execution_count": 39,
   "metadata": {},
   "outputs": [
    {
     "data": {
      "text/plain": [
       "<matplotlib.axes._subplots.AxesSubplot at 0x1dd2be79208>"
      ]
     },
     "execution_count": 39,
     "metadata": {},
     "output_type": "execute_result"
    },
    {
     "data": {
      "image/png": "[encoded data removed]",
      "text/plain": [
       "<Figure size 432x288 with 1 Axes>"
      ]
     },
     "metadata": {
      "needs_background": "light"
     },
     "output_type": "display_data"
    }
   ],
   "source": [
    "#creating the Metrics\n",
    "disag_fhmm= ntk.DataSet(disag_filename)\n",
    "disag_fhmm_elec= disag_fhmm.buildings[1].elec\n",
    "disag_fhmm_elec.plot()"
   ]
  },
  {
   "cell_type": "code",
   "execution_count": 40,
   "metadata": {},
   "outputs": [
    {
     "data": {
      "text/plain": [
       "2     apparent    1.557158\n",
       "dtype: float64\n",
       "3      apparent    1.08258\n",
       "dtype: float64\n",
       "4     apparent    2.284074\n",
       "dtype: float64\n",
       "5     apparent    0.261526\n",
       "dtype: float64\n",
       "6     apparent    1.417993\n",
       "dtype: float64\n",
       "7     apparent    0.287417\n",
       "dtype: float64\n",
       "8     apparent    2.534008\n",
       "dtype: float64\n",
       "9     apparent    0.081595\n",
       "dtype: float64\n",
       "10     apparent    0.10013\n",
       "dtype: float64\n",
       "11    apparent    0.525036\n",
       "dtype: float64\n",
       "12    apparent    0.501027\n",
       "dtype: float64\n",
       "13    apparent    0.534949\n",
       "dtype: float64\n",
       "dtype: object"
      ]
     },
     "execution_count": 40,
     "metadata": {},
     "output_type": "execute_result"
    }
   ],
   "source": [
    "#compute assigned_energy of appliances \n",
    "from nilmtk.metrics import  error_in_assigned_energy\n",
    "error =error_in_assigned_energy(disag_fhmm_elec, elec)\n",
    "error"
   ]
  },
  {
   "cell_type": "code",
   "execution_count": 41,
   "metadata": {},
   "outputs": [
    {
     "name": "stdout",
     "output_type": "stream",
     "text": [
      "2     0.213910\n",
      "3     0.237900\n",
      "4     0.564750\n",
      "5     0.477773\n",
      "6     0.047019\n",
      "7     0.122449\n",
      "8     0.000000\n",
      "9     0.000000\n",
      "10    0.082645\n",
      "11    0.031250\n",
      "12    0.164589\n",
      "13    0.215054\n",
      "dtype: float64\n"
     ]
    },
    {
     "data": {
      "image/png": "[encoded data removed]",
      "text/plain": [
       "<Figure size 432x288 with 1 Axes>"
      ]
     },
     "metadata": {
      "needs_background": "light"
     },
     "output_type": "display_data"
    }
   ],
   "source": [
    "# make plots of f1 score for fhmm\n",
    "from nilmtk.metrics import f1_score \n",
    "f1_fhmm = f1_score(disag_fhmm_elec, elec)\n",
    "print(f1_fhmm)\n",
    "f1_fhmm.index = disag_fhmm_elec.get_labels(f1_fhmm.index)\n",
    "f1_fhmm.plot(kind='barh')\n",
    "plt.ylabel('appliance');\n",
    "plt.xlabel('f-score');\n",
    "plt.title(\"FHMM\");"
   ]
  },
  {
   "cell_type": "code",
   "execution_count": 42,
   "metadata": {},
   "outputs": [],
   "source": [
    "# comperision of CO and FHMM "
   ]
  },
  {
   "cell_type": "code",
   "execution_count": 43,
   "metadata": {},
   "outputs": [],
   "source": [
    "def predict(clf, test_elec, sample_period, timezone):\n",
    "    pred = {}\n",
    "    gt= {}\n",
    "\n",
    "    for i, chunk in enumerate(test_elec.mains().load(sample_period=sample_period)):\n",
    "        chunk_drop_na = chunk.dropna()\n",
    "        pred[i] = clf.disaggregate_chunk(chunk_drop_na)\n",
    "        gt[i]={}\n",
    "\n",
    "        for meter in test_elec.submeters().meters:\n",
    "            # Only use the meters that we trained on (this saves time!)    \n",
    "            gt[i][meter] = next(meter.load(sample_period=sample_period))\n",
    "        gt[i] = pd.DataFrame({k:v.squeeze() for k,v in iteritems(gt[i]) if len(v)}, index=next(iter(gt[i].values())).index).dropna()\n",
    "        \n",
    "    # If everything can fit in memory\n",
    "    gt_overall = pd.concat(gt)\n",
    "    gt_overall.index = gt_overall.index.droplevel()\n",
    "    pred_overall = pd.concat(pred)\n",
    "    pred_overall.index = pred_overall.index.droplevel()\n",
    "\n",
    "    # Having the same order of columns\n",
    "    gt_overall = gt_overall[pred_overall.columns]\n",
    "    \n",
    "    #Intersection of index\n",
    "    gt_index_utc = gt_overall.index.tz_convert(\"UTC\")\n",
    "    pred_index_utc = pred_overall.index.tz_convert(\"UTC\")\n",
    "    common_index_utc = gt_index_utc.intersection(pred_index_utc)\n",
    "    \n",
    "    \n",
    "    common_index_local = common_index_utc.tz_convert(timezone)\n",
    "    gt_overall = gt_overall.ix[common_index_local]\n",
    "    pred_overall = pred_overall.ix[common_index_local]\n",
    "    appliance_labels = [m for m in gt_overall.columns.values]\n",
    "    gt_overall.columns = appliance_labels\n",
    "    pred_overall.columns = appliance_labels\n",
    "    return gt_overall, pred_overall\n"
   ]
  },
  {
   "cell_type": "code",
   "execution_count": 44,
   "metadata": {},
   "outputs": [
    {
     "name": "stdout",
     "output_type": "stream",
     "text": [
      "********************\n",
      "CO\n",
      "********************\n",
      "Training model for submeter 'ElecMeter(instance=2, building=1, dataset='DRED', appliances=[Appliance(type='television', instance=1)])'\n",
      "Training model for submeter 'ElecMeter(instance=3, building=1, dataset='DRED', appliances=[Appliance(type='fan', instance=1)])'\n",
      "Training model for submeter 'ElecMeter(instance=4, building=1, dataset='DRED', appliances=[Appliance(type='fridge', instance=1)])'\n",
      "Training model for submeter 'ElecMeter(instance=5, building=1, dataset='DRED', appliances=[Appliance(type='laptop computer', instance=1)])'\n",
      "Training model for submeter 'ElecMeter(instance=6, building=1, dataset='DRED', appliances=[Appliance(type='electric heating element', instance=1)])'\n",
      "Training model for submeter 'ElecMeter(instance=7, building=1, dataset='DRED', appliances=[Appliance(type='oven', instance=1)])'\n",
      "Training model for submeter 'ElecMeter(instance=8, building=1, dataset='DRED', appliances=[Appliance(type='unknown', instance=1)])'\n",
      "Training model for submeter 'ElecMeter(instance=9, building=1, dataset='DRED', appliances=[Appliance(type='washing machine', instance=1)])'\n",
      "Training model for submeter 'ElecMeter(instance=10, building=1, dataset='DRED', appliances=[Appliance(type='microwave', instance=1)])'\n",
      "Training model for submeter 'ElecMeter(instance=11, building=1, dataset='DRED', appliances=[Appliance(type='toaster', instance=1)])'\n",
      "Training model for submeter 'ElecMeter(instance=12, building=1, dataset='DRED', appliances=[Appliance(type='sockets', instance=1)])'\n",
      "Training model for submeter 'ElecMeter(instance=13, building=1, dataset='DRED', appliances=[Appliance(type='cooker', instance=1)])'\n",
      "Done training!\n",
      "Estimating power demand for 'ElecMeter(instance=2, building=1, dataset='DRED', appliances=[Appliance(type='television', instance=1)])'\n",
      "Estimating power demand for 'ElecMeter(instance=3, building=1, dataset='DRED', appliances=[Appliance(type='fan', instance=1)])'\n",
      "Estimating power demand for 'ElecMeter(instance=4, building=1, dataset='DRED', appliances=[Appliance(type='fridge', instance=1)])'\n",
      "Estimating power demand for 'ElecMeter(instance=5, building=1, dataset='DRED', appliances=[Appliance(type='laptop computer', instance=1)])'\n",
      "Estimating power demand for 'ElecMeter(instance=6, building=1, dataset='DRED', appliances=[Appliance(type='electric heating element', instance=1)])'\n",
      "Estimating power demand for 'ElecMeter(instance=7, building=1, dataset='DRED', appliances=[Appliance(type='oven', instance=1)])'\n",
      "Estimating power demand for 'ElecMeter(instance=8, building=1, dataset='DRED', appliances=[Appliance(type='unknown', instance=1)])'\n",
      "Estimating power demand for 'ElecMeter(instance=9, building=1, dataset='DRED', appliances=[Appliance(type='washing machine', instance=1)])'\n",
      "Estimating power demand for 'ElecMeter(instance=10, building=1, dataset='DRED', appliances=[Appliance(type='microwave', instance=1)])'\n",
      "Estimating power demand for 'ElecMeter(instance=11, building=1, dataset='DRED', appliances=[Appliance(type='toaster', instance=1)])'\n",
      "Estimating power demand for 'ElecMeter(instance=12, building=1, dataset='DRED', appliances=[Appliance(type='sockets', instance=1)])'\n",
      "Estimating power demand for 'ElecMeter(instance=13, building=1, dataset='DRED', appliances=[Appliance(type='cooker', instance=1)])'\n",
      "********************\n",
      "FHMM\n",
      "********************\n",
      "Training model for submeter 'ElecMeter(instance=2, building=1, dataset='DRED', appliances=[Appliance(type='television', instance=1)])'\n",
      "Training model for submeter 'ElecMeter(instance=3, building=1, dataset='DRED', appliances=[Appliance(type='fan', instance=1)])'\n",
      "Training model for submeter 'ElecMeter(instance=4, building=1, dataset='DRED', appliances=[Appliance(type='fridge', instance=1)])'\n",
      "Training model for submeter 'ElecMeter(instance=5, building=1, dataset='DRED', appliances=[Appliance(type='laptop computer', instance=1)])'\n",
      "Training model for submeter 'ElecMeter(instance=6, building=1, dataset='DRED', appliances=[Appliance(type='electric heating element', instance=1)])'\n",
      "Training model for submeter 'ElecMeter(instance=7, building=1, dataset='DRED', appliances=[Appliance(type='oven', instance=1)])'\n",
      "Training model for submeter 'ElecMeter(instance=8, building=1, dataset='DRED', appliances=[Appliance(type='unknown', instance=1)])'\n",
      "Training model for submeter 'ElecMeter(instance=9, building=1, dataset='DRED', appliances=[Appliance(type='washing machine', instance=1)])'\n",
      "Training model for submeter 'ElecMeter(instance=10, building=1, dataset='DRED', appliances=[Appliance(type='microwave', instance=1)])'\n",
      "Training model for submeter 'ElecMeter(instance=11, building=1, dataset='DRED', appliances=[Appliance(type='toaster', instance=1)])'\n",
      "Training model for submeter 'ElecMeter(instance=12, building=1, dataset='DRED', appliances=[Appliance(type='sockets', instance=1)])'\n",
      "Training model for submeter 'ElecMeter(instance=13, building=1, dataset='DRED', appliances=[Appliance(type='cooker', instance=1)])'\n"
     ]
    }
   ],
   "source": [
    "from nilmtk import DataSet, TimeFrame, MeterGroup, HDFDataStore\n",
    "from nilmtk.disaggregate import CombinatorialOptimisation, FHMM\n",
    "import pandas as pd\n",
    "from six import iteritems\n",
    "classifiers = {'CO':CombinatorialOptimisation(), 'FHMM':FHMM()}\n",
    "predictions = {}\n",
    "sample_period = 120\n",
    "for clf_name, clf in classifiers.items():\n",
    "    print(\"*\"*20)\n",
    "    print(clf_name)\n",
    "    print(\"*\" *20)\n",
    "    clf.train(elec, sample_period=sample_period)\n",
    "    gt, predictions[clf_name] = predict(clf, elec, 120, dred.metadata['timezone'])"
   ]
  },
  {
   "cell_type": "code",
   "execution_count": 45,
   "metadata": {},
   "outputs": [],
   "source": [
    "def compute_rmse(gt, pred):\n",
    "    from sklearn.metrics import mean_squared_error\n",
    "    rms_error = {}\n",
    "    for appliance in gt.columns:\n",
    "        rms_error[appliance] = np.sqrt(mean_squared_error(gt[appliance], pred[appliance]))\n",
    "    return pd.Series(rms_error)"
   ]
  },
  {
   "cell_type": "code",
   "execution_count": 46,
   "metadata": {},
   "outputs": [],
   "source": [
    "##the mean squared error (MSE) or mean squared deviation (MSD) of an estimator (of a procedure for estimating an unobserved quantity) measures \n",
    "#the average of the squares of the errors—that is, the average squared difference between the estimated values \n",
    "import numpy as np\n",
    "rmse = {}\n",
    "for clf_name in classifiers.keys():\n",
    "    rmse[clf_name] = compute_rmse(gt, predictions[clf_name])\n",
    "rmse = pd.DataFrame(rmse)"
   ]
  },
  {
   "cell_type": "code",
   "execution_count": 47,
   "metadata": {},
   "outputs": [
    {
     "data": {
      "text/html": [
       "<div>\n",
       "<style scoped>\n",
       "    .dataframe tbody tr th:only-of-type {\n",
       "        vertical-align: middle;\n",
       "    }\n",
       "\n",
       "    .dataframe tbody tr th {\n",
       "        vertical-align: top;\n",
       "    }\n",
       "\n",
       "    .dataframe thead th {\n",
       "        text-align: right;\n",
       "    }\n",
       "</style>\n",
       "<table border=\"1\" class=\"dataframe\">\n",
       "  <thead>\n",
       "    <tr style=\"text-align: right;\">\n",
       "      <th></th>\n",
       "      <th>CO</th>\n",
       "      <th>FHMM</th>\n",
       "    </tr>\n",
       "  </thead>\n",
       "  <tbody>\n",
       "    <tr>\n",
       "      <th>ElecMeter(instance=2, building=1, dataset='DRED', appliances=[Appliance(type='television', instance=1)])</th>\n",
       "      <td>34.701957</td>\n",
       "      <td>26.827903</td>\n",
       "    </tr>\n",
       "    <tr>\n",
       "      <th>ElecMeter(instance=3, building=1, dataset='DRED', appliances=[Appliance(type='fan', instance=1)])</th>\n",
       "      <td>19.736518</td>\n",
       "      <td>20.009338</td>\n",
       "    </tr>\n",
       "    <tr>\n",
       "      <th>ElecMeter(instance=4, building=1, dataset='DRED', appliances=[Appliance(type='fridge', instance=1)])</th>\n",
       "      <td>42.234955</td>\n",
       "      <td>31.054459</td>\n",
       "    </tr>\n",
       "    <tr>\n",
       "      <th>ElecMeter(instance=5, building=1, dataset='DRED', appliances=[Appliance(type='laptop computer', instance=1)])</th>\n",
       "      <td>16.902096</td>\n",
       "      <td>18.005224</td>\n",
       "    </tr>\n",
       "    <tr>\n",
       "      <th>ElecMeter(instance=6, building=1, dataset='DRED', appliances=[Appliance(type='electric heating element', instance=1)])</th>\n",
       "      <td>21.836486</td>\n",
       "      <td>12.694029</td>\n",
       "    </tr>\n",
       "    <tr>\n",
       "      <th>ElecMeter(instance=7, building=1, dataset='DRED', appliances=[Appliance(type='oven', instance=1)])</th>\n",
       "      <td>44.623254</td>\n",
       "      <td>44.580188</td>\n",
       "    </tr>\n",
       "    <tr>\n",
       "      <th>ElecMeter(instance=8, building=1, dataset='DRED', appliances=[Appliance(type='unknown', instance=1)])</th>\n",
       "      <td>2.553917</td>\n",
       "      <td>2.553917</td>\n",
       "    </tr>\n",
       "    <tr>\n",
       "      <th>ElecMeter(instance=9, building=1, dataset='DRED', appliances=[Appliance(type='washing machine', instance=1)])</th>\n",
       "      <td>0.680000</td>\n",
       "      <td>0.320000</td>\n",
       "    </tr>\n",
       "    <tr>\n",
       "      <th>ElecMeter(instance=10, building=1, dataset='DRED', appliances=[Appliance(type='microwave', instance=1)])</th>\n",
       "      <td>56.770583</td>\n",
       "      <td>65.476157</td>\n",
       "    </tr>\n",
       "    <tr>\n",
       "      <th>ElecMeter(instance=11, building=1, dataset='DRED', appliances=[Appliance(type='toaster', instance=1)])</th>\n",
       "      <td>12.100002</td>\n",
       "      <td>12.100002</td>\n",
       "    </tr>\n",
       "    <tr>\n",
       "      <th>ElecMeter(instance=12, building=1, dataset='DRED', appliances=[Appliance(type='sockets', instance=1)])</th>\n",
       "      <td>99.269931</td>\n",
       "      <td>87.555744</td>\n",
       "    </tr>\n",
       "    <tr>\n",
       "      <th>ElecMeter(instance=13, building=1, dataset='DRED', appliances=[Appliance(type='cooker', instance=1)])</th>\n",
       "      <td>75.119973</td>\n",
       "      <td>69.173837</td>\n",
       "    </tr>\n",
       "  </tbody>\n",
       "</table>\n",
       "</div>"
      ],
      "text/plain": [
       "                                                           CO       FHMM\n",
       "ElecMeter(instance=2, building=1, dataset='DRED...  34.701957  26.827903\n",
       "ElecMeter(instance=3, building=1, dataset='DRED...  19.736518  20.009338\n",
       "ElecMeter(instance=4, building=1, dataset='DRED...  42.234955  31.054459\n",
       "ElecMeter(instance=5, building=1, dataset='DRED...  16.902096  18.005224\n",
       "ElecMeter(instance=6, building=1, dataset='DRED...  21.836486  12.694029\n",
       "ElecMeter(instance=7, building=1, dataset='DRED...  44.623254  44.580188\n",
       "ElecMeter(instance=8, building=1, dataset='DRED...   2.553917   2.553917\n",
       "ElecMeter(instance=9, building=1, dataset='DRED...   0.680000   0.320000\n",
       "ElecMeter(instance=10, building=1, dataset='DRE...  56.770583  65.476157\n",
       "ElecMeter(instance=11, building=1, dataset='DRE...  12.100002  12.100002\n",
       "ElecMeter(instance=12, building=1, dataset='DRE...  99.269931  87.555744\n",
       "ElecMeter(instance=13, building=1, dataset='DRE...  75.119973  69.173837"
      ]
     },
     "execution_count": 47,
     "metadata": {},
     "output_type": "execute_result"
    }
   ],
   "source": [
    "rmse"
   ]
  },
  {
   "cell_type": "code",
   "execution_count": null,
   "metadata": {},
   "outputs": [],
   "source": []
  }
 ],
 "metadata": {
  "kernelspec": {
   "display_name": "Python (nilmtk)",
   "language": "python",
   "name": "nilmtk-env"
  },
  "language_info": {
   "codemirror_mode": {
    "name": "ipython",
    "version": 3
   },
   "file_extension": ".py",
   "mimetype": "text/x-python",
   "name": "python",
   "nbconvert_exporter": "python",
   "pygments_lexer": "ipython3",
   "version": "3.6.8"
  }
 },
 "nbformat": 4,
 "nbformat_minor": 2
}
